{
 "cells": [
  {
   "cell_type": "code",
   "execution_count": 65,
   "id": "561486c7",
   "metadata": {},
   "outputs": [
    {
     "name": "stdout",
     "output_type": "stream",
     "text": [
      "7c12f7f5bc98a0893b40ae5b580249b4c49f037f\n"
     ]
    }
   ],
   "source": [
    "import hashlib\n",
    "# using the sha1 hashing algo\n",
    "hash_func = hashlib.sha1()\n",
    "# string that we want to change\n",
    "string=\"111222333\"\n",
    "# encoding the string to pass into update()\n",
    "encoded_string=string.encode()\n",
    "# Passing the string into update()\n",
    "hash_func.update(encoded_string)\n",
    "# Saving the new string using hexdigest()\n",
    "message=hash_func.hexdigest()\n",
    "print(message)"
   ]
  },
  {
   "cell_type": "code",
   "execution_count": 66,
   "id": "e9dde912",
   "metadata": {},
   "outputs": [
    {
     "name": "stdout",
     "output_type": "stream",
     "text": [
      "7c12f7f5bc98a0893b40ae5b580249b4c49f037f\n"
     ]
    }
   ],
   "source": [
    "import hashlib\n",
    "# using the sha1 hashing algo\n",
    "hash_func = hashlib.sha1()\n",
    "# string that we want to change\n",
    "string=\"111222333\"\n",
    "# encoding the string to pass into update()\n",
    "encoded_string=string.encode()\n",
    "# Passing the string into update()\n",
    "hash_func.update(encoded_string)\n",
    "# Saving the new string using hexdigest()\n",
    "message=hash_func.hexdigest()\n",
    "print(message)"
   ]
  },
  {
   "cell_type": "code",
   "execution_count": 57,
   "id": "da80d8f6",
   "metadata": {},
   "outputs": [
    {
     "name": "stdout",
     "output_type": "stream",
     "text": [
      "2bea972fa4b47a37601718cedf5c0949daba1a58\n",
      "6d338604f9ef24c58871e96dde8db934b187ef42\n",
      "e70548670ede61472a5e6666a035ab704bde7537\n",
      "4b13d8ec3fdfae7c69c23e2abd0acc70d7d2c02f\n",
      "4ec4014fda099657c5da945bf5be440059e6eac1\n"
     ]
    }
   ],
   "source": [
    "import hashlib\n",
    "import csv\n",
    "  \n",
    "  \n",
    "filename =\"sample_data.csv\"\n",
    "  \n",
    "# Read File\n",
    "with open(filename, 'r') as data:\n",
    "      \n",
    "    for line in csv.DictReader(data):\n",
    "        #Put file in dictionary and get PII keyvalue pair\n",
    "        current_data = (line.get('Bank Account'))\n",
    "        string = str(current_data)\n",
    "        #encoded_string=string.encode()\n",
    "        #hash_func.update(encoded_string)\n",
    "        message=hash_func.hexdigest()\n",
    "        print(message)\n",
    "\n",
    "\n"
   ]
  },
  {
   "cell_type": "code",
   "execution_count": 72,
   "id": "564da1a3",
   "metadata": {},
   "outputs": [
    {
     "name": "stdout",
     "output_type": "stream",
     "text": [
      "b'111222333'\n",
      "b'222333444'\n",
      "b'1122334455'\n",
      "b'4466668899'\n",
      "b'111222333'\n",
      "b'1'\n",
      "b'1'\n",
      "b'1'\n"
     ]
    }
   ],
   "source": [
    "import hashlib\n",
    "import csv\n",
    "  \n",
    "  \n",
    "filename =\"sample_data.csv\"\n",
    "  \n",
    "# Read File\n",
    "with open(filename, 'r') as data:\n",
    "      \n",
    "    for line in csv.DictReader(data):\n",
    "        #Put file in dictionary and get PII keyvalue pair\n",
    "        current_data = (line.get('Bank Account'))\n",
    "        string = str(current_data)\n",
    "        encoded_string=string.encode()\n",
    "        print(encoded_string)\n",
    "        hash_func.update(encoded_string)\n",
    "        #print(encoded_string)"
   ]
  },
  {
   "cell_type": "code",
   "execution_count": 88,
   "id": "d15a9d88",
   "metadata": {
    "scrolled": true
   },
   "outputs": [
    {
     "name": "stdout",
     "output_type": "stream",
     "text": [
      "1122334455 ea35a5d72d9c8a00b2db52594b248b5d796b580dad47e52ae7a0153e\n",
      "5522334455 13e6931725187ac38869b0eaa577b840036e64d0e5a3d04b12fa568b\n",
      "66558877 b487c49d2f9e1d36669ca07b1eff456ce0801e86d5449bb56f55427b\n",
      "5522334455 13e6931725187ac38869b0eaa577b840036e64d0e5a3d04b12fa568b\n",
      "1122334455 ea35a5d72d9c8a00b2db52594b248b5d796b580dad47e52ae7a0153e\n",
      "44556677 169f5b901885d51023bc62cc13ddf45c8977b31e974f128370611831\n"
     ]
    }
   ],
   "source": [
    "import hashlib\n",
    "import csv\n",
    "  \n",
    "  \n",
    "filename =\"sample_data.csv\"\n",
    "  \n",
    "# Read File\n",
    "with open(filename, mode ='r+') as data:\n",
    "      \n",
    "    for line in csv.DictReader(data):\n",
    "        #Put file in dictionary and get PII keyvalue pair\n",
    "        current_data = (line.get('Bank Account'))\n",
    "        string = str(current_data)\n",
    "        encoded_string=string.encode()\n",
    "        #print(encoded_string)\n",
    "        hash_current_data = hashlib.sha224(encoded_string)\n",
    "        message=hash_current_data.hexdigest()\n",
    "        print(string , message)\n",
    "        #write hash to file\n",
    "        #filename.write (message)\n",
    "        #close file\n",
    "        #filename.close()\n",
    "        "
   ]
  },
  {
   "cell_type": "code",
   "execution_count": 102,
   "id": "13a569f8",
   "metadata": {},
   "outputs": [],
   "source": [
    "import pandas as pd\n",
    "import hashlib\n",
    "\n",
    "# Read only select columns using pandas\n",
    "df = pd.read_csv('sample_data.csv', usecols=['Bank', 'Bank Account', 'Seller Bank Account', 'Value',])\n",
    "df.head()\n",
    "\n",
    "# Convert column to string\n",
    "df['Bank Account'] = df['Bank Account'].astype(str)\n",
    "\n",
    "# Apply hashing function to the column\n",
    "df['BankAccount_HASH'] = df['Bank Account'].apply(\n",
    "    lambda x: \n",
    "        hashlib.sha256(x.encode()).hexdigest()\n",
    ")\n",
    "\n",
    "df[['Bank', 'BankAccount_HASH' , 'Seller Bank Account' , 'Value']].head()\n",
    "df.to_csv ('hash_sample_data.csv')"
   ]
  },
  {
   "cell_type": "code",
   "execution_count": null,
   "id": "eeba5397",
   "metadata": {},
   "outputs": [],
   "source": []
  }
 ],
 "metadata": {
  "kernelspec": {
   "display_name": "Python 3",
   "language": "python",
   "name": "python3"
  },
  "language_info": {
   "codemirror_mode": {
    "name": "ipython",
    "version": 3
   },
   "file_extension": ".py",
   "mimetype": "text/x-python",
   "name": "python",
   "nbconvert_exporter": "python",
   "pygments_lexer": "ipython3",
   "version": "3.8.8"
  }
 },
 "nbformat": 4,
 "nbformat_minor": 5
}
